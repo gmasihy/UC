{
 "cells": [
  {
   "cell_type": "code",
   "execution_count": 46,
   "id": "numeric-float",
   "metadata": {},
   "outputs": [],
   "source": [
    "import sqlite3\n",
    "import csv"
   ]
  },
  {
   "cell_type": "code",
   "execution_count": 47,
   "id": "british-archives",
   "metadata": {},
   "outputs": [],
   "source": [
    "connection = sqlite3.connect('data.db')\n",
    "cursor = connection.cursor()"
   ]
  },
  {
   "cell_type": "markdown",
   "id": "aware-method",
   "metadata": {},
   "source": [
    "Consulta 1"
   ]
  },
  {
   "cell_type": "code",
   "execution_count": 48,
   "id": "raising-brooks",
   "metadata": {},
   "outputs": [
    {
     "name": "stdout",
     "output_type": "stream",
     "text": [
      "[('FR', 17.666666666666668), ('SO', 18.4), ('SR', 20.714285714285715)]\n"
     ]
    }
   ],
   "source": [
    "cursor.execute(\"SELECT E.nivel, AVG(E.edad) \\\n",
    "                FROM Estudiantes E\\\n",
    "                WHERE E.nivel != 'JR' \\\n",
    "                GROUP BY E.nivel\")\n",
    "\n",
    "print(cursor.fetchall())\n",
    "connection.close()\n"
   ]
  },
  {
   "cell_type": "markdown",
   "id": "shaped-lemon",
   "metadata": {},
   "source": [
    "Consulta 2"
   ]
  },
  {
   "cell_type": "code",
   "execution_count": 49,
   "id": "mechanical-oakland",
   "metadata": {},
   "outputs": [
    {
     "name": "stdout",
     "output_type": "stream",
     "text": [
      "Maria White\n",
      "Charles Harris\n",
      "Susan Martin\n",
      "Joseph Thompson\n",
      "Christopher Garcia\n",
      "Angela Martinez\n",
      "Thomas Robinson\n",
      "Margaret Clark\n",
      "Juan Rodriguez\n",
      "Dorthy Lewis\n",
      "Daniel Lee\n",
      "Lisa Walker\n",
      "Paul Hall\n",
      "Nancy Allen\n",
      "Mark Young\n",
      "Luis Hernandez\n",
      "Donald King\n",
      "George Wright\n",
      "Ana Lopez\n",
      "Kenneth Hill\n",
      "Karen Scott\n",
      "Steven Green\n",
      "Betty Adams\n",
      "Edward Baker\n"
     ]
    }
   ],
   "source": [
    "connection = sqlite3.connect('data.db') \n",
    "cursor = connection.cursor()\n",
    "\n",
    "cursor.execute('SELECT DISTINCT E.nombre\\\n",
    "                FROM Estudiantes E, Cursos C, Inscritos I \\\n",
    "                WHERE NOT (E.num = I.num_est AND C.nombre = I.nombre_curso)')\n",
    "\n",
    "for r in cursor:\n",
    "    print(r[0])\n",
    "connection.close()"
   ]
  },
  {
   "cell_type": "markdown",
   "id": "attractive-surfing",
   "metadata": {},
   "source": [
    "Consulta 3"
   ]
  },
  {
   "cell_type": "code",
   "execution_count": 50,
   "id": "geological-rebel",
   "metadata": {},
   "outputs": [],
   "source": [
    "connection = sqlite3.connect('data.db') \n",
    "cursor = connection.cursor()\n",
    "\n",
    "cursor.execute('SELECT DISTINCT P.nombre\\\n",
    "                FROM Profesores P, Cursos C, Inscritos I, Estudiantes E \\\n",
    "                WHERE (E.num = I.num_est AND C.nombre = I.nombre_curso AND I.num_est < 5)\\\n",
    "                GROUP BY P.nombre \\\n",
    "                HAVING I.num_est >= 1')\n",
    "\n",
    "for r in cursor:\n",
    "    print(r[0])\n",
    "connection.close()"
   ]
  },
  {
   "cell_type": "markdown",
   "id": "simplified-abortion",
   "metadata": {},
   "source": [
    "Consulta 4"
   ]
  },
  {
   "cell_type": "code",
   "execution_count": 51,
   "id": "immediate-transmission",
   "metadata": {},
   "outputs": [
    {
     "name": "stdout",
     "output_type": "stream",
     "text": [
      "Air Quality Engineering\n",
      "American Political Parties\n",
      "Archaeology of the Incas\n",
      "Aviation Accident Investigation\n",
      "Communication Networks\n",
      "Dairy Herd Management\n",
      "Data Structures\n",
      "Database Systems\n",
      "Intoduction to Math\n",
      "Introductory Latin\n",
      "Marketing Research\n",
      "Multivariate Analysis\n",
      "Operating System Design\n",
      "Optical Electronics\n",
      "Orbital Mechanics\n",
      "Organic Chemistry\n",
      "Patent Law\n",
      "Perception\n",
      "Seminar in American Art\n",
      "Social Cognition\n",
      "Urban Economics\n"
     ]
    }
   ],
   "source": [
    "connection = sqlite3.connect('data.db') \n",
    "cursor = connection.cursor()\n",
    "\n",
    "cursor.execute('SELECT DISTINCT C.nombre\\\n",
    "                FROM Inscritos I, Cursos C \\\n",
    "                WHERE (I.num_est >= 5 or C.sala = \"R128\")')\n",
    "\n",
    "for r in cursor:\n",
    "    print(r[0])\n",
    "    \n",
    "connection.close()"
   ]
  },
  {
   "cell_type": "code",
   "execution_count": null,
   "id": "animated-barcelona",
   "metadata": {},
   "outputs": [],
   "source": []
  }
 ],
 "metadata": {
  "kernelspec": {
   "display_name": "Python 3",
   "language": "python",
   "name": "python3"
  },
  "language_info": {
   "codemirror_mode": {
    "name": "ipython",
    "version": 3
   },
   "file_extension": ".py",
   "mimetype": "text/x-python",
   "name": "python",
   "nbconvert_exporter": "python",
   "pygments_lexer": "ipython3",
   "version": "3.9.2"
  }
 },
 "nbformat": 4,
 "nbformat_minor": 5
}
