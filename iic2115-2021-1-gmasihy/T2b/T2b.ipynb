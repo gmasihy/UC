{
 "cells": [
  {
   "cell_type": "markdown",
   "id": "noted-share",
   "metadata": {},
   "source": [
    "Lamento no haber alcanzado a terminar la pregunta 1. Asistí a clases y estuve hasta el último minuto tratando, pero no me funcionó :("
   ]
  },
  {
   "cell_type": "code",
   "execution_count": 2,
   "id": "connected-financing",
   "metadata": {},
   "outputs": [],
   "source": [
    "from collections import defaultdict, deque\n",
    "\n",
    "class Nodo:\n",
    "    def __init__(self, valor, padre=None):\n",
    "        self.valor = valor\n",
    "        self.padre = padre\n",
    "        self.hijo_izquierdo = None\n",
    "        self.hijo_derecho = None\n",
    "\n",
    "    def __repr__(self):\n",
    "        return 'padre: {0}, valor: {1}'.format(self.padre, self.valor)\n",
    "\n",
    "\n",
    "class ArbolBinario:\n",
    "    def __init__(self, nodo_raiz=None):\n",
    "        self.nodo_raiz = nodo_raiz\n",
    "\n",
    "    def agregar_nodo(self, valor):\n",
    "        if self.nodo_raiz == None:\n",
    "            self.nodo_raiz = Nodo(valor)\n",
    "        else:\n",
    "            temp = self.nodo_raiz\n",
    "            agregado = False\n",
    "\n",
    "            while not agregado:\n",
    "\n",
    "                if valor <= temp.valor:\n",
    "                    if temp.hijo_izquierdo == None:\n",
    "\n",
    "                        temp.hijo_izquierdo = Nodo(valor, temp.valor)\n",
    "                        agregado = True\n",
    "                    else:\n",
    "\n",
    "                        temp = temp.hijo_izquierdo\n",
    "                else:\n",
    "                    if temp.hijo_derecho == None:\n",
    "\n",
    "                        temp.hijo_derecho = Nodo(valor, temp.valor)\n",
    "                        agregado = True\n",
    "                    else:\n",
    "\n",
    "                        temp = temp.hijo_derecho\n",
    "\n",
    "arbol = [(0,1,2),(4,None,6),(1,3,None),(2,4,5),]                        \n",
    "T = ArbolBinario()\n",
    "for i in arbol:\n",
    "        T.agregar_nodo(i)\n",
    "\n",
    "#def profundidad_arbol_binario(arbol):\n",
    "#        profundidad = profundidad_arbol_binario(arbol)\n",
    "#        return profundidad\n",
    "#print(profundidad_arbol_binario(arbol))"
   ]
  },
  {
   "cell_type": "code",
   "execution_count": null,
   "id": "appointed-footage",
   "metadata": {},
   "outputs": [],
   "source": []
  }
 ],
 "metadata": {
  "kernelspec": {
   "display_name": "Python 3",
   "language": "python",
   "name": "python3"
  },
  "language_info": {
   "codemirror_mode": {
    "name": "ipython",
    "version": 3
   },
   "file_extension": ".py",
   "mimetype": "text/x-python",
   "name": "python",
   "nbconvert_exporter": "python",
   "pygments_lexer": "ipython3",
   "version": "3.9.2"
  }
 },
 "nbformat": 4,
 "nbformat_minor": 5
}
