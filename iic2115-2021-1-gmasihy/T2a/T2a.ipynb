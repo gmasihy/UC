{
 "cells": [
  {
   "cell_type": "markdown",
   "id": "specified-skiing",
   "metadata": {},
   "source": [
    "Pregunta 1"
   ]
  },
  {
   "cell_type": "markdown",
   "id": "pursuant-danish",
   "metadata": {},
   "source": [
    "Al seguir rigurosamente los pasos dados en el enunciado, se llegó a la siguiente función:"
   ]
  },
  {
   "cell_type": "code",
   "execution_count": 4,
   "id": "answering-floor",
   "metadata": {},
   "outputs": [
    {
     "name": "stdout",
     "output_type": "stream",
     "text": [
      "4\n"
     ]
    }
   ],
   "source": [
    "def calcular_max_long(a):\n",
    "    maximo = 0\n",
    "    stack = [-1]\n",
    "    for i in range(len(a)):\n",
    "\n",
    "        if a[i] == \"(\":\n",
    "            stack.append(i)\n",
    "\n",
    "        if a[i] == \")\":\n",
    "            stack.pop()\n",
    "            if len(stack) == 0:\n",
    "                stack.append(i)\n",
    "\n",
    "        largo = i - stack[-1]\n",
    "        if largo > maximo:\n",
    "            maximo = largo\n",
    "\n",
    "    return maximo\n",
    "\n",
    "parentesis = \"(((())\"\n",
    "\n",
    "max_long = calcular_max_long(parentesis)\n",
    "\n",
    "print(max_long)"
   ]
  },
  {
   "cell_type": "markdown",
   "id": "appointed-bathroom",
   "metadata": {},
   "source": [
    "Pregunta 2\n"
   ]
  },
  {
   "cell_type": "markdown",
   "id": "official-wallpaper",
   "metadata": {},
   "source": [
    "Esta parte no la alcancé a terminar. Esto es lo que pude hacer:"
   ]
  },
  {
   "cell_type": "code",
   "execution_count": 7,
   "id": "lonely-phase",
   "metadata": {},
   "outputs": [],
   "source": [
    "from collections import deque\n",
    "\n",
    "grafo = [(0,6),(0,1),(1,6),(1,5),(1,2),(2,3),(3,4),(5,2),(5,3),(5,4),(6,5),(7,6),(7,1)]\n",
    "\n",
    "origen = 0\n",
    "destino = 3\n",
    "m = 4\n",
    "\n",
    "Q = deque()\n",
    "for i in grafo:\n",
    "    Q.append(i)\n",
    "\n",
    "def caminos_largo_m(grafo,origen,destino,m):\n",
    "    Q = deque()\n",
    "    for i in grafo:\n",
    "        Q.append(i)"
   ]
  },
  {
   "cell_type": "code",
   "execution_count": null,
   "id": "norman-dealer",
   "metadata": {},
   "outputs": [],
   "source": []
  }
 ],
 "metadata": {
  "kernelspec": {
   "display_name": "Python 3",
   "language": "python",
   "name": "python3"
  },
  "language_info": {
   "codemirror_mode": {
    "name": "ipython",
    "version": 3
   },
   "file_extension": ".py",
   "mimetype": "text/x-python",
   "name": "python",
   "nbconvert_exporter": "python",
   "pygments_lexer": "ipython3",
   "version": "3.9.2"
  }
 },
 "nbformat": 4,
 "nbformat_minor": 5
}
