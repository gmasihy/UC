{
 "cells": [
  {
   "cell_type": "code",
   "execution_count": 1,
   "id": "spanish-universe",
   "metadata": {},
   "outputs": [],
   "source": [
    "import sqlite3\n",
    "import json\n",
    "with open('movies.json',encoding = 'utf8') as movies_file:\n",
    "    movies = json.load(movies_file)"
   ]
  },
  {
   "cell_type": "code",
   "execution_count": 6,
   "id": "helpful-vessel",
   "metadata": {},
   "outputs": [],
   "source": [
    "connection = sqlite3.connect('movies.db')\n",
    "cursor = connection.cursor()\n",
    "\n",
    "cursor.execute(\"CREATE TABLE IF NOT EXISTS Peliculas(name TEXT, year INTEGER)\")\n",
    "cursor.execute(\"CREATE TABLE IF NOT EXISTS Reparto(name TEXT, cast LIST)\")\n",
    "cursor.execute(\"CREATE TABLE IF NOT EXISTS Generos(name TEXT, genres LIST)\")\n",
    "\n",
    "for elemento in movies:\n",
    "        #cursor.execute(\"INSERT INTO Peliculas VALUES (elemento[0],elemento[1])\")\n",
    "        #cursor.execute(\"INSERT INTO Reparto VALUES (elemento[0],elemento[2])\")\n",
    "        #cursor.execute(\"INSERT INTO Generos VALUES (elemento[0],elemento[3])\")\n",
    "\n",
    "    cursor.execute(\"CREATE TABLE IF NOT EXISTS Actuacion (id_actor INTEGER, id_pelicula INTEGER, actua BOOL)\")\n",
    "\n",
    "connection.commit()\n",
    "connection.close()"
   ]
  },
  {
   "cell_type": "code",
   "execution_count": null,
   "id": "stable-rouge",
   "metadata": {},
   "outputs": [],
   "source": []
  }
 ],
 "metadata": {
  "kernelspec": {
   "display_name": "Python 3",
   "language": "python",
   "name": "python3"
  },
  "language_info": {
   "codemirror_mode": {
    "name": "ipython",
    "version": 3
   },
   "file_extension": ".py",
   "mimetype": "text/x-python",
   "name": "python",
   "nbconvert_exporter": "python",
   "pygments_lexer": "ipython3",
   "version": "3.9.2"
  }
 },
 "nbformat": 4,
 "nbformat_minor": 5
}
