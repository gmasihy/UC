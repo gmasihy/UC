{
 "cells": [
  {
   "cell_type": "markdown",
   "id": "plastic-custom",
   "metadata": {},
   "source": [
    "En primer lugar, cargué el archivo \"movies.json\":"
   ]
  },
  {
   "cell_type": "code",
   "execution_count": 18,
   "id": "congressional-lyric",
   "metadata": {},
   "outputs": [],
   "source": [
    "import json\n",
    "with open('movies.json',encoding='utf8') as movies_file:\n",
    "    movies = json.load(movies_file)"
   ]
  },
  {
   "cell_type": "markdown",
   "id": "cardiac-silly",
   "metadata": {},
   "source": [
    "Misión 1: \"Modelación de entidades\". \n",
    "Se definen las clases \"Pelicula\", \"Actor\" y \"Genero\":"
   ]
  },
  {
   "cell_type": "code",
   "execution_count": 30,
   "id": "prostate-visiting",
   "metadata": {},
   "outputs": [],
   "source": [
    "class Pelicula:\n",
    "\n",
    "    def __init__(self,titulo,ano,reparto,genero):\n",
    "        self.titulo = titulo\n",
    "        self.ano = ano\n",
    "        self.reparto = reparto\n",
    "        self.genero = genero\n",
    "    \n",
    "\n",
    "\n",
    "class Actor:\n",
    "\n",
    "    def __init__(self,elenco,ano_aparicion):\n",
    "        self.elenco = elenco\n",
    "        self.ano_aparicion = ano_aparicion\n",
    "        self.lista_actuaciones = []\n",
    "        self.par_actor_ano = ()\n",
    "    \n",
    "    def add_tupla(self):\n",
    "        self.lista_actuaciones.append(self.par_actor_ano)\n",
    "        \n",
    "\n",
    "class Genero:\n",
    "\n",
    "    def __init__(self,lista_generos):\n",
    "        self.lista_generos = []\n",
    "\n",
    "    def lista_de_generos(self):\n",
    "        for gen in Pelicula.genero:\n",
    "            self.lista_generos.append(gen)"
   ]
  },
  {
   "cell_type": "markdown",
   "id": "future-tiger",
   "metadata": {},
   "source": [
    "Misión 2: \"Carga de datos\". Se extraen los datos y se cargan en los objetos correspondientes:"
   ]
  },
  {
   "cell_type": "code",
   "execution_count": 46,
   "id": "serious-biology",
   "metadata": {},
   "outputs": [],
   "source": [
    "peliculas = []\n",
    "for movie in movies:\n",
    "    a = Pelicula(movie[\"title\"],movie[\"year\"],movie[\"cast\"],movie[\"genres\"])\n",
    "    peliculas.append(a)\n",
    "\n",
    "actores = []\n",
    "for movie in movies:\n",
    "    b = Actor(movie[\"cast\"],movie[\"year\"])\n",
    "    actores.append(b)\n",
    "\n",
    "generos = []\n",
    "for movie in movies:\n",
    "    c = Genero(movie[\"genres\"])\n",
    "    generos.append(c)\n"
   ]
  },
  {
   "cell_type": "markdown",
   "id": "allied-hughes",
   "metadata": {},
   "source": [
    "Misión 3: \"Consultas sobre los datos\". Se intenta responder las consultas pedidas:"
   ]
  },
  {
   "cell_type": "markdown",
   "id": "blond-viking",
   "metadata": {},
   "source": [
    "Consulta 1:"
   ]
  },
  {
   "cell_type": "code",
   "execution_count": 54,
   "id": "revolutionary-wesley",
   "metadata": {},
   "outputs": [],
   "source": [
    "### metodo para encontrar los 5 generos mas populares\n",
    "\n",
    "generos = []\n",
    "contador_rep = 0\n",
    "for j in movies:\n",
    "    generos += j['genres']\n",
    "\n",
    "#print(generos)\n",
    "\n",
    "aux = []\n",
    "bla = {}\n",
    "for i in generos:\n",
    "    if i not in aux:\n",
    "        a = generos.count(i)\n",
    "        bla[i] = a\n",
    "#print(bla)\n",
    "## bla es el diccionario que contiene los generos como llaves y la cantidad de peliculas que pertenecen a ese genero como valores\n",
    "\n",
    "bla2 = {}\n",
    "j = 1\n",
    "b = sorted(bla.values())\n",
    "mayor = max(bla.values())\n",
    "\n",
    "for rep in bla:\n",
    "    if bla[rep] == mayor and j <= 5:\n",
    "        bla2[rep] = mayor\n",
    "        j += 1\n",
    "    elif bla[rep] == mayor-1 and j <= 5:\n",
    "        bla2[rep] = mayor-1\n",
    "        j += 1\n",
    "    elif bla[rep] == mayor-2 and j <=5:\n",
    "        bla2[rep] = mayor-2\n",
    "        j += 1\n",
    "\n",
    "#print(bla2)\n",
    "### bla2 es un diccionario que contiene los 5 generos mas populares como llaves y su cantidad de repeticiones como valores"
   ]
  },
  {
   "cell_type": "markdown",
   "id": "lesbian-commerce",
   "metadata": {},
   "source": [
    "Consulta 2:"
   ]
  },
  {
   "cell_type": "code",
   "execution_count": 56,
   "id": "broad-picking",
   "metadata": {},
   "outputs": [],
   "source": [
    "#posible metodo para obtener los tres anos que mas peliculas se hacen\n",
    "\n",
    "anos = []\n",
    "contador_rep = 0\n",
    "for j in movies:\n",
    "    anos.append(j['year'])\n",
    "\n",
    "aux = []\n",
    "bla = {}\n",
    "for i in anos:\n",
    "    if i not in aux:\n",
    "        a = anos.count(i)\n",
    "        bla[i] = a\n",
    "\n",
    "#print(bla)\n",
    "#bla es el diccionario que contiene los anos como llaves y la cantidad de peliculas realizadas por ano como valores\n",
    "\n",
    "mayor = max(bla.values())\n",
    "\n",
    "bla2 = {}\n",
    "i = 1\n",
    "b = sorted(bla.values())\n",
    "\n",
    "for rep in bla:\n",
    "    if bla[rep] == b[len(b)-1] and i <= 3:\n",
    "        bla2[rep] = b[len(b)-1]\n",
    "        i += 1\n",
    "for rep in bla:\n",
    "    if bla[rep] == b[len(b)-2] and i <= 3:\n",
    "        bla2[rep] = b[len(b)-2]\n",
    "        i += 1\n",
    "for rep in bla:\n",
    "    if bla[rep] == b[len(b)-3] and i <= 3:\n",
    "        bla2[rep] = b[len(b)-3]\n",
    "        i += 1\n",
    "\n",
    "#print(bla2)\n",
    "#bla2 = diccionario que contiene los tres años con mas ocurrencias\n"
   ]
  },
  {
   "cell_type": "markdown",
   "id": "modified-islam",
   "metadata": {},
   "source": [
    "El resto de las consultas preferí no incluirlas en el código, pues tenían algunos errores importantes."
   ]
  },
  {
   "cell_type": "code",
   "execution_count": null,
   "id": "sought-xerox",
   "metadata": {},
   "outputs": [],
   "source": []
  },
  {
   "cell_type": "code",
   "execution_count": null,
   "id": "original-treat",
   "metadata": {},
   "outputs": [],
   "source": []
  }
 ],
 "metadata": {
  "kernelspec": {
   "display_name": "Python 3",
   "language": "python",
   "name": "python3"
  },
  "language_info": {
   "codemirror_mode": {
    "name": "ipython",
    "version": 3
   },
   "file_extension": ".py",
   "mimetype": "text/x-python",
   "name": "python",
   "nbconvert_exporter": "python",
   "pygments_lexer": "ipython3",
   "version": "3.9.2"
  }
 },
 "nbformat": 4,
 "nbformat_minor": 5
}
