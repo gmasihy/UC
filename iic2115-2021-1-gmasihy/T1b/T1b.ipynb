{
 "cells": [
  {
   "cell_type": "code",
   "execution_count": 4,
   "id": "decent-ideal",
   "metadata": {},
   "outputs": [
    {
     "data": {
      "text/plain": [
       "[('perro', 3), ('gato', 2), ('pato', 1)]"
      ]
     },
     "execution_count": 4,
     "metadata": {},
     "output_type": "execute_result"
    }
   ],
   "source": [
    "#P1\n",
    "#Se define una función que genera la lista de tuplas pedida.\n",
    "#Esta crea un diccionario a partir de una lista de palabras entregada y cuantifica la \n",
    "#cantidad de ocurrencias de las llaves, para luego crear una lista de tuplas:\n",
    "\n",
    "\n",
    "def retorno_de_tuplas(a):\n",
    "    diccionario = {}\n",
    "\n",
    "    for palabra in a:\n",
    "\n",
    "        if palabra not in diccionario:\n",
    "\n",
    "            diccionario[palabra] = 1\n",
    "\n",
    "        else:\n",
    "            diccionario[str(palabra)] += 1\n",
    "\n",
    "    vacia = []\n",
    "\n",
    "    for i in diccionario:\n",
    "        tuplita = (i,diccionario[i])\n",
    "        vacia.append(tuplita)\n",
    "    #print(vacia)\n",
    "\n",
    "    return vacia\n",
    "\n",
    "palabras = [\"perro\",\"gato\",\"perro\",\"perro\",\"gato\",\"pato\"] # <- lista de prueba que usé\n",
    "\n",
    "retorno_de_tuplas(palabras)"
   ]
  },
  {
   "cell_type": "code",
   "execution_count": null,
   "id": "magnetic-oxford",
   "metadata": {},
   "outputs": [],
   "source": [
    "#P2\n",
    "\n"
   ]
  }
 ],
 "metadata": {
  "kernelspec": {
   "display_name": "Python 3",
   "language": "python",
   "name": "python3"
  },
  "language_info": {
   "codemirror_mode": {
    "name": "ipython",
    "version": 3
   },
   "file_extension": ".py",
   "mimetype": "text/x-python",
   "name": "python",
   "nbconvert_exporter": "python",
   "pygments_lexer": "ipython3",
   "version": "3.9.2"
  }
 },
 "nbformat": 4,
 "nbformat_minor": 5
}
