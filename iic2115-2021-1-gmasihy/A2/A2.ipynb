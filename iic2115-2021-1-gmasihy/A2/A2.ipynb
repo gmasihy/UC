{
 "cells": [
  {
   "cell_type": "markdown",
   "id": "assured-sunglasses",
   "metadata": {},
   "source": [
    "P1"
   ]
  },
  {
   "cell_type": "markdown",
   "id": "naughty-guard",
   "metadata": {},
   "source": [
    "Para esta pregunta transformé el string original a un stack y creé una lista vacía. Con un for agregué el último elemento del stack a la lista vacía y luego eliminé ese elemento del stack. Finalmente, transformé la lista resultante al string inverso."
   ]
  },
  {
   "cell_type": "code",
   "execution_count": 15,
   "id": "productive-captain",
   "metadata": {},
   "outputs": [],
   "source": [
    "def invertir_string(string_original):\n",
    "    vacia = []\n",
    "    stack = []\n",
    "    stack[:0] = string_original\n",
    "    for i in range(len(stack)):\n",
    "        vacia.append(stack[-1])\n",
    "        stack.pop()\n",
    "    return ''.join(vacia)\n",
    "\n",
    "string_original = \"programación_como_herramienta_para_la_ingeniería\"\n",
    "string_inverso = invertir_string(string_original)"
   ]
  },
  {
   "cell_type": "code",
   "execution_count": 16,
   "id": "satellite-career",
   "metadata": {},
   "outputs": [
    {
     "name": "stdout",
     "output_type": "stream",
     "text": [
      "aíreinegni_al_arap_atneimarreh_omoc_nóicamargorp\n"
     ]
    }
   ],
   "source": [
    "if __name__ == \"__main__\":\n",
    "    print(string_inverso)"
   ]
  },
  {
   "cell_type": "markdown",
   "id": "municipal-showcase",
   "metadata": {},
   "source": [
    "P2\n"
   ]
  },
  {
   "cell_type": "markdown",
   "id": "devoted-commissioner",
   "metadata": {},
   "source": [
    "Para esta pregunta me guié en la materia de algoritmos de ordenamiento del capítulo 2 b).lo que hice fue crear un algoritmo sensillo que toma la lista que ingresa a la función y la deja ordenada de manera ascendente con todos sus valores positivos. La función retorna el producto entre los dos últimos valores de la nueva lista. "
   ]
  },
  {
   "cell_type": "code",
   "execution_count": 22,
   "id": "hybrid-substance",
   "metadata": {},
   "outputs": [],
   "source": [
    "def maximo_producto_absoluto(lista):\n",
    "    nueva_lista = []\n",
    "    for i in lista:\n",
    "        nueva_lista.append(abs(i))\n",
    "    nueva_lista.sort()\n",
    "    return nueva_lista[len(nueva_lista)-1] * nueva_lista[len(nueva_lista)-2]\n",
    "\n",
    "lista = [-10, -3, 4, 6, -2]\n",
    "max_prod = maximo_producto_absoluto(lista)"
   ]
  },
  {
   "cell_type": "code",
   "execution_count": 23,
   "id": "interested-french",
   "metadata": {},
   "outputs": [
    {
     "name": "stdout",
     "output_type": "stream",
     "text": [
      "60\n"
     ]
    }
   ],
   "source": [
    "if __name__ == \"__main__\":\n",
    "    print(max_prod)"
   ]
  },
  {
   "cell_type": "markdown",
   "id": "romantic-oakland",
   "metadata": {},
   "source": [
    "P3\n"
   ]
  },
  {
   "cell_type": "markdown",
   "id": "split-coordination",
   "metadata": {},
   "source": [
    "Para esta pregunta me guié de los conceptos \"dividir y conquistar\" y usé recursión. Tomé como valor más cercano a la mitad del número dado y luego iteré en un while sacando la mitad del número resultante y corrobarando la condición de salida. Es importante señalar que la condición del \"if not\" debe ser >1, ya que el número que buscamos se trata de uno natural. Esto reduce significativamente la cantidad de iteraciones O(log(n)), ya que de haber puesto una condición más exacta, e.g. \"if curr*curr == numero:\" este algoritmo se hubiese quedado en el loop."
   ]
  },
  {
   "cell_type": "code",
   "execution_count": 32,
   "id": "acute-netscape",
   "metadata": {},
   "outputs": [],
   "source": [
    "def calcular_raiz(numero):\n",
    "    mas_cercano = numero/2\n",
    "    while True:\n",
    "        curr =  (mas_cercano + (numero / mas_cercano))/2\n",
    "        if not curr*curr - numero > 1:\n",
    "            return int(curr)\n",
    "        mas_cercano = curr\n",
    "\n",
    "numero = 17\n",
    "raiz = calcular_raiz(numero)"
   ]
  },
  {
   "cell_type": "code",
   "execution_count": 33,
   "id": "primary-charity",
   "metadata": {},
   "outputs": [
    {
     "name": "stdout",
     "output_type": "stream",
     "text": [
      "4\n"
     ]
    }
   ],
   "source": [
    "if __name__ == \"__main__\":\n",
    "    print (raiz)\n",
    "    "
   ]
  },
  {
   "cell_type": "markdown",
   "id": "subjective-awareness",
   "metadata": {},
   "source": [
    "P4"
   ]
  },
  {
   "cell_type": "markdown",
   "id": "center-arcade",
   "metadata": {},
   "source": [
    "Para que un nodo fuera accesible descde cualquier nodo, bastaba comprobar que hubiera un 1 en todas las fias y columnas"
   ]
  },
  {
   "cell_type": "code",
   "execution_count": 38,
   "id": "numerical-kingdom",
   "metadata": {},
   "outputs": [],
   "source": [
    "def caminos_desde_todos(grafo):\n",
    "    condiciones_cumplidas = 0\n",
    "    for fila in grafo:\n",
    "        if 1 in fila:\n",
    "            condiciones_cumplidas += 1\n",
    "        else:\n",
    "            return False\n",
    "        for i in range(len(fila)):\n",
    "            if fila[i] == 1:\n",
    "                condiciones_cumplidas +=1\n",
    "\n",
    "    if condiciones_cumplidas >= 2:\n",
    "        return True\n",
    "    else:\n",
    "        return False\n",
    "\n",
    "    \n",
    "grafo = [[0,0,0,0,1],[1,0,1,0,0],[0,1,0,0,1],[0,1,1,0,0],[0,0,0,1,0]]\n",
    "se_puede = caminos_desde_todos(grafo)"
   ]
  },
  {
   "cell_type": "code",
   "execution_count": 39,
   "id": "functioning-nickel",
   "metadata": {},
   "outputs": [
    {
     "name": "stdout",
     "output_type": "stream",
     "text": [
      "True\n"
     ]
    }
   ],
   "source": [
    "print(se_puede)"
   ]
  },
  {
   "cell_type": "code",
   "execution_count": null,
   "id": "responsible-winter",
   "metadata": {},
   "outputs": [],
   "source": []
  },
  {
   "cell_type": "code",
   "execution_count": null,
   "id": "banner-bangladesh",
   "metadata": {},
   "outputs": [],
   "source": []
  }
 ],
 "metadata": {
  "kernelspec": {
   "display_name": "Python 3",
   "language": "python",
   "name": "python3"
  },
  "language_info": {
   "codemirror_mode": {
    "name": "ipython",
    "version": 3
   },
   "file_extension": ".py",
   "mimetype": "text/x-python",
   "name": "python",
   "nbconvert_exporter": "python",
   "pygments_lexer": "ipython3",
   "version": "3.9.2"
  }
 },
 "nbformat": 4,
 "nbformat_minor": 5
}
