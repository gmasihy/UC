{
 "cells": [
  {
   "cell_type": "code",
   "execution_count": 29,
   "id": "approximate-aerospace",
   "metadata": {},
   "outputs": [],
   "source": [
    "class Auto:\n",
    "    \n",
    "    def __init__(self,km_max,v_promedio):\n",
    "        \n",
    "        self.km_max = 1500\n",
    "        self.v_promedio = 80\n",
    "\n",
    "class Bicicleta:\n",
    "    \n",
    "    def __init__(self,km_max,v_promedio):\n",
    "        \n",
    "        self.km_max = 1000\n",
    "        self.v_promedio = 30\n",
    "    \n",
    "#################################################\n",
    "\n",
    "\n",
    "\n",
    "class Ciudad:\n",
    "    \n",
    "    def __init__(self,nombre_ciudad,color_ciudad):\n",
    "        \n",
    "        self.nombre_ciudad = nombre_ciudad\n",
    "        self.color_ciudad = color_ciudad\n",
    "        self.cant_veh_pintados = 0\n",
    "\n",
    "        \n",
    "    def __repr__(self):\n",
    "        return \"La ciudad \"+str(self.nombre_ciudad)+\" es de color \"+str(self.color_ciudad)\n",
    "\n",
    "        \n",
    "class Personas:\n",
    "    \n",
    "    def __init__(self,nombre_persona,edad,h_conducidas,c_visitadas,vehiculo):\n",
    "        \n",
    "        self.nombre_persona = nombre_persona\n",
    "        self.edad = edad\n",
    "        self.h_conducidas = 0\n",
    "        self.c_visitadas = 0\n",
    "        self.vehiculo = vehiculo\n",
    "    \n",
    "    def viaja(self):\n",
    "        pass\n",
    "    \n",
    "    def __repr__(self):\n",
    "        pass\n",
    "\n",
    "\n",
    "class Vehiculos:\n",
    "    \n",
    "    def __init__(self,color_vehiculo,v_promedio,km_recorridos,km_max,c_visitadas,estado):\n",
    "        \n",
    "        self.color_vehiculo = blanco\n",
    "        self.v_promedio = v_promedio\n",
    "        self.km_recorridos = 0\n",
    "        self.km_max = km_max\n",
    "        self.c_visitadas = c_visitadas\n",
    "        self.estado = \"Funcionando\"\n",
    "    \n",
    "    def pintar_vehiculo(self):\n",
    "        contador_veh_pintados = 0\n",
    "        if self.color_vehiculo == self.color_ciudad:\n",
    "            contador_veh_pintados += 1\n",
    "            self.c_visitadas += 1\n",
    "            \n",
    "        \n",
    "        pass\n",
    "        \n",
    "    \n",
    "    def tiempo_demorado(self):\n",
    "        \n",
    "        tiempo_demorado = km_recorridos/v_promedio\n",
    "        return tiempo_demorado\n",
    "    \n",
    "    \n",
    "    def evaluar_estado(self):\n",
    "        \n",
    "        if km_recorridos > km_max:\n",
    "            self.estado = \"En Panne\"\n",
    "            km_recorridos = km_max\n",
    "        \n",
    "        else:\n",
    "            pass\n",
    "        \n",
    "\n",
    "\n",
    "\n",
    "    \n",
    "\n",
    "        \n",
    "    \n",
    "    \n",
    "    "
   ]
  },
  {
   "cell_type": "code",
   "execution_count": 30,
   "id": "ambient-toilet",
   "metadata": {
    "scrolled": true
   },
   "outputs": [],
   "source": [
    "roma = Ciudad(\"Roma\",\"Verde\")\n",
    "santiago = Ciudad(\"Santiago\",\"Rojo\")\n",
    "lima = Ciudad(\"Lima\",\"Azul\")\n",
    "valparaiso = Ciudad(\"Valparaiso\",\"Celeste\")\n"
   ]
  },
  {
   "cell_type": "code",
   "execution_count": 31,
   "id": "daily-accountability",
   "metadata": {
    "scrolled": true
   },
   "outputs": [
    {
     "name": "stdout",
     "output_type": "stream",
     "text": [
      "La ciudad Roma es de color Verde\n"
     ]
    }
   ],
   "source": [
    "print(roma)"
   ]
  },
  {
   "cell_type": "code",
   "execution_count": null,
   "id": "elect-microphone",
   "metadata": {},
   "outputs": [],
   "source": []
  }
 ],
 "metadata": {
  "kernelspec": {
   "display_name": "Python 3",
   "language": "python",
   "name": "python3"
  },
  "language_info": {
   "codemirror_mode": {
    "name": "ipython",
    "version": 3
   },
   "file_extension": ".py",
   "mimetype": "text/x-python",
   "name": "python",
   "nbconvert_exporter": "python",
   "pygments_lexer": "ipython3",
   "version": "3.9.2"
  }
 },
 "nbformat": 4,
 "nbformat_minor": 5
}
