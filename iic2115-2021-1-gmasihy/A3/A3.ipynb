{
 "cells": [
  {
   "cell_type": "code",
   "execution_count": 1,
   "id": "silver-barrel",
   "metadata": {},
   "outputs": [],
   "source": [
    "import sqlite3\n",
    "import csv"
   ]
  },
  {
   "cell_type": "code",
   "execution_count": 2,
   "id": "studied-raleigh",
   "metadata": {},
   "outputs": [],
   "source": [
    "connection = sqlite3.connect('A3.db') \n",
    "cursor = connection.cursor()"
   ]
  },
  {
   "cell_type": "markdown",
   "id": "oriented-consumption",
   "metadata": {},
   "source": [
    "Misión 1"
   ]
  },
  {
   "cell_type": "code",
   "execution_count": 3,
   "id": "portable-hands",
   "metadata": {},
   "outputs": [],
   "source": [
    "cursor.execute(\"CREATE TABLE Empleados(eid INTEGER, enombre STRING, edad INTEGER, \\\n",
    "                sueldo FLOAT)\")\n",
    "with open('empleado.txt') as e:\n",
    "    for line in csv.reader(e):\n",
    "        cursor.execute('INSERT INTO empleados VALUES (:eid,:enombre,:edad,:sueldo)', \n",
    "                           {\"eid\": line[0], \"enombre\": line[1], \"edad\": line[2], \"sueldo\": line[3]})"
   ]
  },
  {
   "cell_type": "code",
   "execution_count": 4,
   "id": "communist-filter",
   "metadata": {},
   "outputs": [],
   "source": [
    "cursor.execute(\"CREATE TABLE Trabaja_en(id_empleado INTEGER, id_dpto INTEGER, porcentaje_tiempo INTEGER)\")\n",
    "with open('trabaja_en.txt') as t:\n",
    "    for line in csv.reader(t):\n",
    "            cursor.execute('INSERT INTO trabaja_en VALUES (:id_empleado,:id_dpto,:porcentaje_tiempo)', \n",
    "                           {\"id_empleado\": line[0], \"id_dpto\": line[1], \"porcentaje_tiempo\": line[2]})"
   ]
  },
  {
   "cell_type": "code",
   "execution_count": 5,
   "id": "patent-service",
   "metadata": {},
   "outputs": [],
   "source": [
    "cursor.execute(\"CREATE TABLE Departamentos(did INTEGER, dnombre STRING, presupuesto FLOAT, id_jefe INTEGER)\")\n",
    "with open('departamento.txt') as d:\n",
    "    for line in csv.reader(d):\n",
    "            cursor.execute('INSERT INTO departamentos VALUES (:did,:dnombre,:presupuesto,:id_jefe)', \n",
    "                           {\"did\": line[0], \"dnombre\": line[1], \"presupuesto\": line[2], \"id_jefe\": line[3]})"
   ]
  },
  {
   "cell_type": "code",
   "execution_count": 6,
   "id": "embedded-moses",
   "metadata": {},
   "outputs": [],
   "source": [
    "connection.commit()"
   ]
  },
  {
   "cell_type": "markdown",
   "id": "protective-weapon",
   "metadata": {},
   "source": [
    "Misión 2"
   ]
  },
  {
   "cell_type": "markdown",
   "id": "threatened-plaintiff",
   "metadata": {},
   "source": [
    "Consulta 1: Encuentre el nombre y la edad de cada empleado que trabaja en los departamentos de Software y Hardware."
   ]
  },
  {
   "cell_type": "code",
   "execution_count": 7,
   "id": "right-homeless",
   "metadata": {},
   "outputs": [
    {
     "name": "stdout",
     "output_type": "stream",
     "text": [
      "Mary Johnson 44\n",
      "Stanley Browne 23\n"
     ]
    }
   ],
   "source": [
    "connection = sqlite3.connect('A3.db') \n",
    "cursor = connection.cursor()\n",
    "cursor.execute(\"SELECT DISTINCT E.enombre, E.edad \\\n",
    "                FROM Empleados E, Departamentos D, Trabaja_en T \\\n",
    "                WHERE E.eid = T.id_empleado AND D.did = T.id_dpto AND D.dnombre = 'Software' AND \\\n",
    "                (SELECT D.dnombre \\\n",
    "                FROM Empleados E, Departamentos D, Trabaja_en T \\\n",
    "                WHERE D.dnombre = 'Hardware' AND E.eid = T.id_empleado AND D.did = T.id_dpto) = 'Hardware'\")\n",
    "for r in cursor:\n",
    "    print(r[0],r[1])\n",
    "connection.close()"
   ]
  },
  {
   "cell_type": "markdown",
   "id": "dominant-promotion",
   "metadata": {},
   "source": [
    "Consulta 2: Encuentre el nombre de los jefes que administran los departamentos con el presupuesto máximo."
   ]
  },
  {
   "cell_type": "code",
   "execution_count": 8,
   "id": "universal-typing",
   "metadata": {},
   "outputs": [
    {
     "name": "stdout",
     "output_type": "stream",
     "text": [
      "Michael Miller\n",
      "Edward Baker\n"
     ]
    }
   ],
   "source": [
    "connection = sqlite3.connect('A3.db') \n",
    "cursor = connection.cursor()\n",
    "cursor.execute(\"SELECT DISTINCT E.enombre \\\n",
    "                FROM Empleados E, Departamentos D, Trabaja_en T \\\n",
    "                WHERE E.eid = D.id_jefe AND \\\n",
    "                (SELECT MAX(D.presupuesto) \\\n",
    "                FROM Empleados E, Departamentos D, Trabaja_en T \\\n",
    "                WHERE E.eid = D.id_jefe) = D.presupuesto \")\n",
    "for r in cursor:\n",
    "    print(r[0])\n",
    "connection.close()"
   ]
  },
  {
   "cell_type": "markdown",
   "id": "together-steel",
   "metadata": {},
   "source": [
    "Consulta 3: Encuentre el nombre de los empleados cuyo sueldo excede el presupuesto de todos los departamentos en los que trabaja."
   ]
  },
  {
   "cell_type": "code",
   "execution_count": 9,
   "id": "optimum-acting",
   "metadata": {},
   "outputs": [
    {
     "name": "stdout",
     "output_type": "stream",
     "text": [
      "Linda Davis\n"
     ]
    }
   ],
   "source": [
    "connection = sqlite3.connect('A3.db') \n",
    "cursor = connection.cursor()\n",
    "cursor.execute(\"SELECT E.enombre \\\n",
    "                FROM Empleados E, Departamentos D, Trabaja_en T \\\n",
    "                WHERE E.eid = T.id_empleado AND D.did = T.id_dpto AND E.sueldo > D.presupuesto \")\n",
    "for r in cursor:\n",
    "    print(r[0])\n",
    "connection.close()"
   ]
  },
  {
   "cell_type": "markdown",
   "id": "aboriginal-booking",
   "metadata": {},
   "source": [
    "Consulta 4: Para cada departamento con dedicación del personal EQUIVALENTE a al menos 20 empleados a tiempo completo, encuentre el nombre del departamento y la cantidad de empleados."
   ]
  },
  {
   "cell_type": "code",
   "execution_count": 10,
   "id": "corresponding-approach",
   "metadata": {},
   "outputs": [
    {
     "name": "stdout",
     "output_type": "stream",
     "text": [
      "('Operations', 26)\n",
      "('Production', 22)\n"
     ]
    }
   ],
   "source": [
    "connection = sqlite3.connect('A3.db') \n",
    "cursor = connection.cursor()\n",
    "cursor.execute(\"SELECT D.dnombre, COUNT(E.eid) \\\n",
    "                FROM Empleados E, Departamentos D, Trabaja_en T \\\n",
    "                WHERE E.eid = T.id_empleado AND D.did = T.id_dpto \\\n",
    "                GROUP BY D.did \\\n",
    "                HAVING SUM(T.porcentaje_tiempo) >= 2000 \")\n",
    "for r in cursor:\n",
    "    print(r)\n",
    "connection.close()"
   ]
  },
  {
   "cell_type": "code",
   "execution_count": null,
   "id": "supposed-noise",
   "metadata": {},
   "outputs": [],
   "source": []
  }
 ],
 "metadata": {
  "kernelspec": {
   "display_name": "Python 3",
   "language": "python",
   "name": "python3"
  },
  "language_info": {
   "codemirror_mode": {
    "name": "ipython",
    "version": 3
   },
   "file_extension": ".py",
   "mimetype": "text/x-python",
   "name": "python",
   "nbconvert_exporter": "python",
   "pygments_lexer": "ipython3",
   "version": "3.9.2"
  }
 },
 "nbformat": 4,
 "nbformat_minor": 5
}
